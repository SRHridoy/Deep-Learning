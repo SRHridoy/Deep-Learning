{
 "cells": [
  {
   "cell_type": "code",
   "execution_count": 1,
   "id": "85bd359b",
   "metadata": {},
   "outputs": [],
   "source": [
    "import numpy as np"
   ]
  },
  {
   "cell_type": "code",
   "execution_count": 3,
   "id": "30499f71",
   "metadata": {},
   "outputs": [],
   "source": [
    "revenue = np.array([\n",
    "    [1000, 1500, 1200],\n",
    "    [1700, 1100, 1400],\n",
    "    [1300, 1600, 1250]\n",
    "])\n",
    "expenses = np.array([\n",
    "    [400, 700, 500],\n",
    "    [800, 600, 750],\n",
    "    [550, 900, 650]\n",
    "])"
   ]
  },
  {
   "cell_type": "code",
   "execution_count": 5,
   "id": "290eb761",
   "metadata": {},
   "outputs": [
    {
     "data": {
      "text/plain": [
       "array([[600, 800, 700],\n",
       "       [900, 500, 650],\n",
       "       [750, 700, 600]])"
      ]
     },
     "execution_count": 5,
     "metadata": {},
     "output_type": "execute_result"
    }
   ],
   "source": [
    "profit = revenue-expenses\n",
    "profit"
   ]
  },
  {
   "cell_type": "code",
   "execution_count": 6,
   "id": "925d71a3",
   "metadata": {},
   "outputs": [],
   "source": [
    "price_per_unit = np.array([1000,800,1200])\n",
    "units = np.array([[30,40,50],[5,20,12],[2,34,5]])"
   ]
  },
  {
   "cell_type": "code",
   "execution_count": null,
   "id": "d1553757",
   "metadata": {},
   "outputs": [
    {
     "data": {
      "text/plain": [
       "array([[30000, 32000, 60000],\n",
       "       [ 5000, 16000, 14400],\n",
       "       [ 2000, 27200,  6000]])"
      ]
     },
     "execution_count": 8,
     "metadata": {},
     "output_type": "execute_result"
    }
   ],
   "source": [
    "# price_per_unit*units"
   ]
  },
  {
   "cell_type": "code",
   "execution_count": 10,
   "id": "07aa3728",
   "metadata": {},
   "outputs": [
    {
     "data": {
      "text/plain": [
       "array([36400, 96800, 65600])"
      ]
     },
     "execution_count": 10,
     "metadata": {},
     "output_type": "execute_result"
    }
   ],
   "source": [
    "np.dot(price_per_unit, units)"
   ]
  },
  {
   "cell_type": "markdown",
   "id": "ede28075",
   "metadata": {},
   "source": [
    "# HOME WORK"
   ]
  },
  {
   "cell_type": "code",
   "execution_count": 14,
   "id": "acd541df",
   "metadata": {},
   "outputs": [],
   "source": [
    "dollars = np.array([[200,220,250],\n",
    "                  [68,79,105],\n",
    "                  [110,140,180],\n",
    "                  [80,85,90]])"
   ]
  },
  {
   "cell_type": "code",
   "execution_count": 15,
   "id": "8f7ec4a7",
   "metadata": {},
   "outputs": [
    {
     "data": {
      "text/plain": [
       "array([[16600, 18260, 20750],\n",
       "       [ 5644,  6557,  8715],\n",
       "       [ 9130, 11620, 14940],\n",
       "       [ 6640,  7055,  7470]])"
      ]
     },
     "execution_count": 15,
     "metadata": {},
     "output_type": "execute_result"
    }
   ],
   "source": [
    "# Assuming 'dollars' is in USD, and we want to convert to INR (Indian Rupees)\n",
    "# Let's use an example conversion rate, e.g., 1 USD = 83 INR\n",
    "\n",
    "conversion_rate = 83  # 1 USD = 83 INR\n",
    "inr = dollars * conversion_rate\n",
    "inr\n"
   ]
  },
  {
   "cell_type": "code",
   "execution_count": null,
   "id": "414555a2",
   "metadata": {},
   "outputs": [],
   "source": [
    "a"
   ]
  }
 ],
 "metadata": {
  "kernelspec": {
   "display_name": "base",
   "language": "python",
   "name": "python3"
  },
  "language_info": {
   "codemirror_mode": {
    "name": "ipython",
    "version": 3
   },
   "file_extension": ".py",
   "mimetype": "text/x-python",
   "name": "python",
   "nbconvert_exporter": "python",
   "pygments_lexer": "ipython3",
   "version": "3.12.7"
  }
 },
 "nbformat": 4,
 "nbformat_minor": 5
}
